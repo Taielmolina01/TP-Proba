{
 "cells": [
  {
   "cell_type": "markdown",
   "metadata": {},
   "source": [
    "# Trabajo Práctico Probabilidad y Estadística B"
   ]
  },
  {
   "cell_type": "markdown",
   "metadata": {},
   "source": [
    "##### Alumno: Molina, Taiel Alexis.\n",
    "##### Padrón: 109458."
   ]
  },
  {
   "cell_type": "markdown",
   "metadata": {},
   "source": [
    "## Enunciado"
   ]
  },
  {
   "cell_type": "markdown",
   "metadata": {},
   "source": [
    "En el mercado de smartphones, uno podría pensar que los dispositivos con mayor capacidad de almacenamiento suelen tener baterías más duraderas, dado que suelen ser modelos más premium con mejores especificaciones, incluida la batería. Modelar estos datos podría ayudar a estimar la duración de la batería en función de su capacidad de almacenamiento, algo útil para los consumidores al elegir un nuevo dispositivo. El archivo smart.txt posee valores registrados sobre capacidad de almacenamiento (primera columna en GB) y la respectiva duración de baterías (segunda columna en horas). Utilizando Python o R resolver:"
   ]
  },
  {
   "cell_type": "markdown",
   "metadata": {},
   "source": [
    "1. Antes de suponer una distribución conocida para cada variable, estimar las varianzas de forma insesgada (y por separado).\n",
    "\n",
    "2. Asumiendo que la distribución de la capacidad de almacenamiento es normal, se desea hacer un test para rechazar que la media es $μ_{0}^{x}$. Graficar el p-valor en función de $μ_{0}^{x}$. Relacionar dicho gráfico con el concepto de nivel de significación. ¿Qué puede decir del punto donde el p-valor alcanza el máximo?\n",
    "\n",
    "3. Graficar la función de distribución empírica de la capacidad de almacenamiento y compararla con la curva correspondiente a una normal cuya media corresponda al valor que maximiza el p-valor del inciso 2 y cuya varianza sea la estimada en el inciso 1.\n",
    "\n",
    "4. Antes de asumir una distribución conocida para la duración de las baterías, se desea\n",
    "hacer un test para rechazar que la media es $μ_{0}^{y}$. Graficar el p-valor asintótico en función de $μ_{0}^{y}$. Relacionar dicho gráfico con el concepto de nivel de significación asintótico. ¿Qué puede decir del punto donde el p-valor asintótico alcanza el máximo?\n",
    "\n",
    "5. Graficar el histograma de la duración de las baterías y compararla con la curva correspondiente a una normal cuya media corresponda al valor que maximiza el p-valor asintótico del inciso 4 y cuya varianza sea la estimada en el inciso 1.\n",
    "\n",
    "6. Asumiendo que los datos corresponden a una normal bivariada cuyas medias y varianzas son las utilizadas en los incisos 3 y 5 (asumiendo que son los verdaderos valores y son conocidos), graficar la log-verosimilitud en función de $\\rho$. Estimar por máxima verosimilitud el coeficiente de correlación.\n",
    ">> Recomendamos seguir los siguientes pasos:\n",
    "> - Halle una expresión analítica (a mano) para la log-verosimilitud $(\\log(L(\\rho)) = \\sum_{i=1}^{n} \\log f_p(x_i, y_i))$.\n",
    "> - Defina una función que para cada ρ devuelva el valor de $log(L(\\rho))$.\n",
    "> - Construir el gráfico pedido. Para evitar errores numéricos suponer $\\rho$ ∈ [−0.9, 0.9].\n",
    "> - Encuentre el $\\rho$ que maximiza $log(L(\\rho))$ utilizando argmax (numpy).\n",
    "\n",
    "7. Asumiendo la distribución del inciso 6, utilizando como coeficiente de correlación su estimación, hallar la recta de regresión. Graficar los datos con una nube de puntos y superponer la recta de regresión sobre ellos. Utilice la recta para estimar cuánto duraría la batería de un smartphone de 256GB de almacenamiento.\n",
    "Utilice scatter (matplotlib) para el gráfico."
   ]
  },
  {
   "cell_type": "code",
   "execution_count": 199,
   "metadata": {},
   "outputs": [],
   "source": [
    "import pandas as pd\n",
    "import matplotlib.pyplot as plt\n",
    "import numpy as np\n",
    "import scipy.stats as sp\n",
    "from math import sqrt"
   ]
  },
  {
   "cell_type": "code",
   "execution_count": 200,
   "metadata": {},
   "outputs": [],
   "source": [
    "with open(\"tp_proba.txt\", \"r\") as file:\n",
    "    content = file.read()\n",
    "\n",
    "columns = content.split('\\n')\n",
    "\n",
    "columna_capacidad = \"Capacidad almacenamiento (GB)\"\n",
    "columna_bateria = \"Bateria (hs)\"\n",
    "\n",
    "df = pd.DataFrame({\n",
    "    columna_capacidad: columns[0].strip().split(),\n",
    "    columna_bateria: columns[1].strip().split()\n",
    "})"
   ]
  },
  {
   "cell_type": "code",
   "execution_count": 201,
   "metadata": {},
   "outputs": [
    {
     "data": {
      "text/html": [
       "<div>\n",
       "<style scoped>\n",
       "    .dataframe tbody tr th:only-of-type {\n",
       "        vertical-align: middle;\n",
       "    }\n",
       "\n",
       "    .dataframe tbody tr th {\n",
       "        vertical-align: top;\n",
       "    }\n",
       "\n",
       "    .dataframe thead th {\n",
       "        text-align: right;\n",
       "    }\n",
       "</style>\n",
       "<table border=\"1\" class=\"dataframe\">\n",
       "  <thead>\n",
       "    <tr style=\"text-align: right;\">\n",
       "      <th></th>\n",
       "      <th>Capacidad almacenamiento (GB)</th>\n",
       "      <th>Bateria (hs)</th>\n",
       "    </tr>\n",
       "  </thead>\n",
       "  <tbody>\n",
       "    <tr>\n",
       "      <th>0</th>\n",
       "      <td>1.728410482964301593e+02</td>\n",
       "      <td>1.993094365342351892e+01</td>\n",
       "    </tr>\n",
       "    <tr>\n",
       "      <th>1</th>\n",
       "      <td>1.810869536598085290e+02</td>\n",
       "      <td>2.939171332124981717e+01</td>\n",
       "    </tr>\n",
       "    <tr>\n",
       "      <th>2</th>\n",
       "      <td>8.389491403880364828e+01</td>\n",
       "      <td>2.166707768538169177e+01</td>\n",
       "    </tr>\n",
       "    <tr>\n",
       "      <th>3</th>\n",
       "      <td>1.316523438149948220e+02</td>\n",
       "      <td>2.158607242183519048e+01</td>\n",
       "    </tr>\n",
       "    <tr>\n",
       "      <th>4</th>\n",
       "      <td>1.252197524182479356e+02</td>\n",
       "      <td>2.445483764217112110e+01</td>\n",
       "    </tr>\n",
       "    <tr>\n",
       "      <th>...</th>\n",
       "      <td>...</td>\n",
       "      <td>...</td>\n",
       "    </tr>\n",
       "    <tr>\n",
       "      <th>995</th>\n",
       "      <td>1.285115276831897972e+02</td>\n",
       "      <td>2.166467860323509242e+01</td>\n",
       "    </tr>\n",
       "    <tr>\n",
       "      <th>996</th>\n",
       "      <td>1.152488624622447730e+02</td>\n",
       "      <td>2.204388649137436573e+01</td>\n",
       "    </tr>\n",
       "    <tr>\n",
       "      <th>997</th>\n",
       "      <td>1.237223550506687104e+02</td>\n",
       "      <td>2.020013715152357747e+01</td>\n",
       "    </tr>\n",
       "    <tr>\n",
       "      <th>998</th>\n",
       "      <td>8.097534253823346262e+01</td>\n",
       "      <td>2.243922035497707412e+01</td>\n",
       "    </tr>\n",
       "    <tr>\n",
       "      <th>999</th>\n",
       "      <td>1.107054243035664740e+02</td>\n",
       "      <td>1.998032821370148682e+01</td>\n",
       "    </tr>\n",
       "  </tbody>\n",
       "</table>\n",
       "<p>1000 rows × 2 columns</p>\n",
       "</div>"
      ],
      "text/plain": [
       "    Capacidad almacenamiento (GB)              Bateria (hs)\n",
       "0        1.728410482964301593e+02  1.993094365342351892e+01\n",
       "1        1.810869536598085290e+02  2.939171332124981717e+01\n",
       "2        8.389491403880364828e+01  2.166707768538169177e+01\n",
       "3        1.316523438149948220e+02  2.158607242183519048e+01\n",
       "4        1.252197524182479356e+02  2.445483764217112110e+01\n",
       "..                            ...                       ...\n",
       "995      1.285115276831897972e+02  2.166467860323509242e+01\n",
       "996      1.152488624622447730e+02  2.204388649137436573e+01\n",
       "997      1.237223550506687104e+02  2.020013715152357747e+01\n",
       "998      8.097534253823346262e+01  2.243922035497707412e+01\n",
       "999      1.107054243035664740e+02  1.998032821370148682e+01\n",
       "\n",
       "[1000 rows x 2 columns]"
      ]
     },
     "execution_count": 201,
     "metadata": {},
     "output_type": "execute_result"
    }
   ],
   "source": [
    "df"
   ]
  },
  {
   "cell_type": "code",
   "execution_count": 202,
   "metadata": {},
   "outputs": [
    {
     "name": "stdout",
     "output_type": "stream",
     "text": [
      "<class 'pandas.core.frame.DataFrame'>\n",
      "RangeIndex: 1000 entries, 0 to 999\n",
      "Data columns (total 2 columns):\n",
      " #   Column                         Non-Null Count  Dtype \n",
      "---  ------                         --------------  ----- \n",
      " 0   Capacidad almacenamiento (GB)  1000 non-null   object\n",
      " 1   Bateria (hs)                   1000 non-null   object\n",
      "dtypes: object(2)\n",
      "memory usage: 15.8+ KB\n"
     ]
    }
   ],
   "source": [
    "df.info()"
   ]
  },
  {
   "cell_type": "code",
   "execution_count": 203,
   "metadata": {},
   "outputs": [],
   "source": [
    "df[columna_capacidad] = pd.to_numeric(df[columna_capacidad])\n",
    "df[columna_bateria] = pd.to_numeric(df[columna_bateria])"
   ]
  },
  {
   "cell_type": "code",
   "execution_count": 204,
   "metadata": {},
   "outputs": [
    {
     "name": "stdout",
     "output_type": "stream",
     "text": [
      "<class 'pandas.core.frame.DataFrame'>\n",
      "RangeIndex: 1000 entries, 0 to 999\n",
      "Data columns (total 2 columns):\n",
      " #   Column                         Non-Null Count  Dtype  \n",
      "---  ------                         --------------  -----  \n",
      " 0   Capacidad almacenamiento (GB)  1000 non-null   float64\n",
      " 1   Bateria (hs)                   1000 non-null   float64\n",
      "dtypes: float64(2)\n",
      "memory usage: 15.8 KB\n"
     ]
    }
   ],
   "source": [
    "df.info()"
   ]
  },
  {
   "cell_type": "code",
   "execution_count": 205,
   "metadata": {},
   "outputs": [
    {
     "data": {
      "text/html": [
       "<div>\n",
       "<style scoped>\n",
       "    .dataframe tbody tr th:only-of-type {\n",
       "        vertical-align: middle;\n",
       "    }\n",
       "\n",
       "    .dataframe tbody tr th {\n",
       "        vertical-align: top;\n",
       "    }\n",
       "\n",
       "    .dataframe thead th {\n",
       "        text-align: right;\n",
       "    }\n",
       "</style>\n",
       "<table border=\"1\" class=\"dataframe\">\n",
       "  <thead>\n",
       "    <tr style=\"text-align: right;\">\n",
       "      <th></th>\n",
       "      <th>Capacidad almacenamiento (GB)</th>\n",
       "      <th>Bateria (hs)</th>\n",
       "    </tr>\n",
       "  </thead>\n",
       "  <tbody>\n",
       "    <tr>\n",
       "      <th>0</th>\n",
       "      <td>172.841048</td>\n",
       "      <td>19.930944</td>\n",
       "    </tr>\n",
       "    <tr>\n",
       "      <th>1</th>\n",
       "      <td>181.086954</td>\n",
       "      <td>29.391713</td>\n",
       "    </tr>\n",
       "    <tr>\n",
       "      <th>2</th>\n",
       "      <td>83.894914</td>\n",
       "      <td>21.667078</td>\n",
       "    </tr>\n",
       "    <tr>\n",
       "      <th>3</th>\n",
       "      <td>131.652344</td>\n",
       "      <td>21.586072</td>\n",
       "    </tr>\n",
       "    <tr>\n",
       "      <th>4</th>\n",
       "      <td>125.219752</td>\n",
       "      <td>24.454838</td>\n",
       "    </tr>\n",
       "  </tbody>\n",
       "</table>\n",
       "</div>"
      ],
      "text/plain": [
       "   Capacidad almacenamiento (GB)  Bateria (hs)\n",
       "0                     172.841048     19.930944\n",
       "1                     181.086954     29.391713\n",
       "2                      83.894914     21.667078\n",
       "3                     131.652344     21.586072\n",
       "4                     125.219752     24.454838"
      ]
     },
     "execution_count": 205,
     "metadata": {},
     "output_type": "execute_result"
    }
   ],
   "source": [
    "df.head(5)"
   ]
  },
  {
   "cell_type": "markdown",
   "metadata": {},
   "source": [
    "### Ejercicio 1"
   ]
  },
  {
   "cell_type": "code",
   "execution_count": 206,
   "metadata": {},
   "outputs": [],
   "source": [
    "media_capacidad = df[columna_capacidad].mean()\n",
    "media_bateria = df[columna_bateria].mean()"
   ]
  },
  {
   "cell_type": "code",
   "execution_count": 207,
   "metadata": {},
   "outputs": [],
   "source": [
    "def calcular_estimacion_varianza_insesgada(columna, promedio):\n",
    "    return sum((xi - promedio) ** 2 for xi in df[columna]) / (len(df[columna]) - 1)"
   ]
  },
  {
   "cell_type": "code",
   "execution_count": 208,
   "metadata": {},
   "outputs": [],
   "source": [
    "estimacion_varianza_capacidad = calcular_estimacion_varianza_insesgada(columna_capacidad, media_capacidad)\n",
    "estimacion_varianza_bateria = calcular_estimacion_varianza_insesgada(columna_bateria, media_bateria)"
   ]
  },
  {
   "cell_type": "code",
   "execution_count": 209,
   "metadata": {},
   "outputs": [
    {
     "name": "stdout",
     "output_type": "stream",
     "text": [
      "La estimación de la varianza de la capacidad es de 1068.244\n"
     ]
    }
   ],
   "source": [
    "print(f\"La estimación de la varianza de la capacidad es de {estimacion_varianza_capacidad:.3f}\")"
   ]
  },
  {
   "cell_type": "code",
   "execution_count": 210,
   "metadata": {},
   "outputs": [
    {
     "name": "stdout",
     "output_type": "stream",
     "text": [
      "La estimación de la varianza de la batería es de 15.566\n"
     ]
    }
   ],
   "source": [
    "print(f\"La estimación de la varianza de la batería es de {estimacion_varianza_bateria:.3f}\")"
   ]
  },
  {
   "cell_type": "markdown",
   "metadata": {},
   "source": [
    "### Ejercicio 2"
   ]
  },
  {
   "cell_type": "markdown",
   "metadata": {},
   "source": [
    "H0: mu = mux0           H1: mu != mux0\n",
    "\n",
    "delta(x) = 1 si T < k1 o T > k2\n",
    "           0 si no\n",
    "\n",
    "Con T = sqrt(n) (Xpromedio - mux0) / S \n",
    "con S² como el estimador insesgado de la varianza\n",
    "\n",
    "ya que bajo H0 T se distribuye como una t de student de grados de libertad n-1\n",
    "\n",
    "mux0 = P mu= a(T < K1 o T > K2)\n",
    "\n",
    "con K1 = cuantil de tn-1 mux0/2\n",
    "y K2 = cuantil de tn-1 1-mux0/2"
   ]
  },
  {
   "cell_type": "code",
   "execution_count": null,
   "metadata": {},
   "outputs": [],
   "source": []
  },
  {
   "cell_type": "markdown",
   "metadata": {},
   "source": [
    "### Ejercicio 3"
   ]
  },
  {
   "cell_type": "code",
   "execution_count": 211,
   "metadata": {},
   "outputs": [
    {
     "data": {
      "image/png": "[encoded data removed]",
      "text/plain": [
       "<Figure size 800x600 with 1 Axes>"
      ]
     },
     "metadata": {},
     "output_type": "display_data"
    }
   ],
   "source": [
    "def ecdf(data):\n",
    "    x = np.sort(data)\n",
    "    y = np.arange(1, len(data) + 1) / len(data)\n",
    "    return x, y\n",
    "\n",
    "x, y = ecdf(df[columna_capacidad])\n",
    "\n",
    "plt.figure(figsize=(8, 6))\n",
    "plt.step(x, y, color=\"#E67E22\", label=\"ECDF\")\n",
    "\n",
    "mu = 125 # aca va lo del p valor\n",
    "sigma = sqrt(estimacion_varianza_capacidad) \n",
    "\n",
    "x_normal = np.linspace(np.min(x), np.max(x), 1000)\n",
    "normal_cdf = sp.norm.cdf(x_normal, loc=mu, scale=sigma)\n",
    "\n",
    "plt.plot(x_normal, normal_cdf, color=\"#2E86C1\", label=\"Normal Distribution\")\n",
    "\n",
    "plt.xlabel(\"Values\")\n",
    "plt.ylabel(\"Cumulative probability\")\n",
    "plt.title(\"Empirical Cumulative Distributive Function vs Normal Distribution\")\n",
    "plt.legend()\n",
    "plt.grid(True)\n",
    "plt.show()"
   ]
  },
  {
   "cell_type": "markdown",
   "metadata": {},
   "source": [
    "### Ejercicio 4"
   ]
  },
  {
   "cell_type": "markdown",
   "metadata": {},
   "source": [
    "video 10.2"
   ]
  },
  {
   "cell_type": "code",
   "execution_count": null,
   "metadata": {},
   "outputs": [],
   "source": []
  },
  {
   "cell_type": "markdown",
   "metadata": {},
   "source": [
    "### Ejercicio 5"
   ]
  },
  {
   "cell_type": "code",
   "execution_count": 212,
   "metadata": {},
   "outputs": [
    {
     "data": {
      "image/png": "[encoded data removed]",
      "text/plain": [
       "<Figure size 800x600 with 1 Axes>"
      ]
     },
     "metadata": {},
     "output_type": "display_data"
    }
   ],
   "source": [
    "plt.figure(figsize=(8, 6))\n",
    "plt.hist(df[columna_bateria], bins=50, alpha=0.7, color=\"#196F3D\")  \n",
    "\n",
    "mu = 20 # aca va lo del p valor\n",
    "sigma = sqrt(estimacion_varianza_bateria) \n",
    "\n",
    "x = np.linspace(np.min(df[columna_bateria]), np.max(df[columna_bateria]), 100)\n",
    "normal_pdf = sp.norm.pdf(x, loc=mu, scale=sigma)\n",
    "\n",
    "plt.plot(x, normal_pdf, color=\"#2E86C1\", label=\"Probability distribution of normal\")\n",
    "\n",
    "plt.xlabel(\"Values\")\n",
    "plt.ylabel(\"Frequency\")\n",
    "plt.title(\"Histogram\")\n",
    "plt.legend()\n",
    "plt.show()"
   ]
  },
  {
   "cell_type": "markdown",
   "metadata": {},
   "source": [
    "### Ejercicio 6"
   ]
  },
  {
   "cell_type": "code",
   "execution_count": null,
   "metadata": {},
   "outputs": [],
   "source": []
  },
  {
   "cell_type": "markdown",
   "metadata": {},
   "source": [
    "### Ejercicio 7"
   ]
  },
  {
   "cell_type": "code",
   "execution_count": null,
   "metadata": {},
   "outputs": [],
   "source": []
  }
 ],
 "metadata": {
  "kernelspec": {
   "display_name": "Python 3",
   "language": "python",
   "name": "python3"
  },
  "language_info": {
   "codemirror_mode": {
    "name": "ipython",
    "version": 3
   },
   "file_extension": ".py",
   "mimetype": "text/x-python",
   "name": "python",
   "nbconvert_exporter": "python",
   "pygments_lexer": "ipython3",
   "version": "3.11.6"
  }
 },
 "nbformat": 4,
 "nbformat_minor": 2
}
